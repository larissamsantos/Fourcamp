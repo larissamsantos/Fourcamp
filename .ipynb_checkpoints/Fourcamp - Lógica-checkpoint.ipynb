{
 "cells": [
  {
   "cell_type": "markdown",
   "id": "e0c1cbe1",
   "metadata": {},
   "source": [
    "# Lógica de Programação\n",
    "\n",
    "Exercícios feitos para o Fourcamp 2022"
   ]
  },
  {
   "cell_type": "markdown",
   "id": "b3b31918",
   "metadata": {},
   "source": [
    "## Desafios (Algoritmos)"
   ]
  },
  {
   "cell_type": "markdown",
   "id": "54c5a2dd",
   "metadata": {},
   "source": [
    "### Exercício 1:\n",
    "\n",
    "Leia as medidas(b, h) de um retângulo. Escreva a área calculada."
   ]
  },
  {
   "cell_type": "code",
   "execution_count": null,
   "id": "56d5b855",
   "metadata": {},
   "outputs": [],
   "source": [
    "b = int(input(\"Digite a altura do retângulo: \"))\n",
    "h = int(input(\"Digite a largura do retângulo: \"))\n",
    "print(\"A área calculada é de:\", b*h)"
   ]
  },
  {
   "cell_type": "markdown",
   "id": "21e861dc",
   "metadata": {},
   "source": [
    "### Exercício 2\n",
    "\n",
    "Sabendo que cada cavalo precisa de 4 ferraduras e que cada unidade custa 9,90, pergunte quantos cavalos precisam de ferraduras. Depois calcule e informe o valor final."
   ]
  },
  {
   "cell_type": "code",
   "execution_count": null,
   "id": "88594fa1",
   "metadata": {},
   "outputs": [],
   "source": [
    "cavalos = int(input(\"Quantos cavalos precisam de ferraduras? \"))\n",
    "ferraduras = cavalos * 4\n",
    "valor = round((ferraduras * 9.90), 2)\n",
    "print(\"O valor final é\", valor, \"reais\")"
   ]
  },
  {
   "cell_type": "markdown",
   "id": "619adad8",
   "metadata": {},
   "source": [
    "### Exercício 3\n",
    "Leia dois valores (A e B) e informe a soma."
   ]
  },
  {
   "cell_type": "code",
   "execution_count": null,
   "id": "d2d1dd02",
   "metadata": {},
   "outputs": [],
   "source": [
    "a = float(input(\"Digite o valor A: \"))\n",
    "b = float(input(\"Digite o valor B: \"))\n",
    "print(\"A soma é:\", a+b)"
   ]
  },
  {
   "cell_type": "markdown",
   "id": "45eaba7c",
   "metadata": {},
   "source": [
    "### Exercício 4\n",
    "Leia três valores (A, B e C). Informe média."
   ]
  },
  {
   "cell_type": "code",
   "execution_count": null,
   "id": "1c8bb031",
   "metadata": {},
   "outputs": [],
   "source": [
    "a = float(input(\"Digite o valor A: \"))\n",
    "b = float(input(\"Digite o valor B: \"))\n",
    "c = float(input(\"Digite o valor C: \"))\n",
    "print(\"A média é:\", round((a+b+c)/3, 2))"
   ]
  },
  {
   "cell_type": "markdown",
   "id": "9e31a810",
   "metadata": {},
   "source": [
    "### Exercício 5\n",
    "\n",
    "Faça um algoritmo para uma loja de 1,99. Leia quantos itens foram vendidos. Conceda um desconto de 5% e informe o valor final."
   ]
  },
  {
   "cell_type": "code",
   "execution_count": null,
   "id": "15c13bc4",
   "metadata": {},
   "outputs": [],
   "source": [
    "quantidade_itens = float(input(\"Digite o número de itens vendidos: \"))\n",
    "valor_final = 1.99 * quantidade_itens * 0.95\n",
    "print(\"O valor final é de\", round(valor_final,2), \"reais\")"
   ]
  },
  {
   "cell_type": "markdown",
   "id": "c5f5dac6",
   "metadata": {},
   "source": [
    "### Exercício 6\n",
    "Crie um algoritmo que peça a altura e o peso de uma pessoa. Calcule e informe o IMC.\n",
    "Considere a fórmula: IMC = peso / ( altura )²"
   ]
  },
  {
   "cell_type": "code",
   "execution_count": null,
   "id": "0fb2764c",
   "metadata": {},
   "outputs": [],
   "source": [
    "altura = float(input(\"Digite sua altura: \"))\n",
    "peso = float(input(\"Digite seu peso: \"))\n",
    "imc = peso / (altura*altura)\n",
    "print(\"Seu IMC é:\", round(imc,2))"
   ]
  },
  {
   "cell_type": "markdown",
   "id": "95652225",
   "metadata": {},
   "source": [
    "### Exercício 7\n",
    "Pedrinho tem um cofrinho com muitas moedas, e\n",
    "deseja saber quantos reais conseguiu poupar. Faça\n",
    "um algoritmo para ler a quantidade de cada tipo de\n",
    "moeda, e imprimir o valor total economizado, em\n",
    "reais. Considere que existam moedas de 1, 5, 10, 25\n",
    "e 50 centavos, e ainda moedas de 1 real."
   ]
  },
  {
   "cell_type": "code",
   "execution_count": null,
   "id": "b4c5aced",
   "metadata": {},
   "outputs": [],
   "source": [
    "a = float(input(\"Digite o número de moedas de 1 centavo: \"))\n",
    "b = float(input(\"Digite o número de moedas de 5 centavos: \"))\n",
    "c = float(input(\"Digite o número de moedas de 10 centavos: \"))\n",
    "d = float(input(\"Digite o número de moedas de 25 centavos: \"))\n",
    "e = float(input(\"Digite o número de moedas de 50 centavos: \"))\n",
    "f = float(input(\"Digite o número de moedas de 1 real: \"))\n",
    "valor_economizado = a*0.01 + b*0.05 + c*0.1 + d*0.25 + e*0.5 + f*1\n",
    "print(\"Você economizou:\", valor_economizado)"
   ]
  },
  {
   "cell_type": "markdown",
   "id": "422bd39a",
   "metadata": {},
   "source": [
    "### Exercício 8\n",
    "Uma fábrica de refrigerantes vende seu produto em\n",
    "três formatos: lata de 350 ml, garrafa de 600 ml e\n",
    "garrafa de 2 litros. Se um comerciante compra uma\n",
    "determinada quantidade de cada formato, faça um\n",
    "algoritmo para calcular quantos litros de refrigerante\n",
    "ele comprou."
   ]
  },
  {
   "cell_type": "code",
   "execution_count": null,
   "id": "07adebad",
   "metadata": {},
   "outputs": [],
   "source": [
    "a = float(input(\"Digite o número de latas de 350ml: \"))\n",
    "b = float(input(\"Digite o número de garrafas de 600ml: \"))\n",
    "c = float(input(\"Digite o número de garrafas de 2L: \"))\n",
    "qtd_litros = a*0.35 + b*0.6 + c*2\n",
    "print(\"Quantidade de litros de refrigerante:\", qtd_litros)"
   ]
  },
  {
   "cell_type": "markdown",
   "id": "066da8c8",
   "metadata": {},
   "source": [
    "### Exercício 9\n",
    "Leia um número de 1 a 10, calcule e mostre a\n",
    "tabuada."
   ]
  },
  {
   "cell_type": "code",
   "execution_count": null,
   "id": "964483ca",
   "metadata": {},
   "outputs": [],
   "source": [
    "numero = int(input(\"Digite um número entre 1 e 10: \"))\n",
    "print(numero, \"* 1 =\", numero*1)\n",
    "print(numero, \"* 2 =\", numero*2)\n",
    "print(numero, \"* 3 =\", numero*3)\n",
    "print(numero, \"* 4 =\", numero*4)\n",
    "print(numero, \"* 5 =\", numero*5)\n",
    "print(numero, \"* 6 =\", numero*6)\n",
    "print(numero, \"* 7 =\", numero*7)\n",
    "print(numero, \"* 8 =\", numero*8)\n",
    "print(numero, \"* 9 =\", numero*9)\n",
    "print(numero, \"* 10 =\", numero*10)"
   ]
  },
  {
   "cell_type": "markdown",
   "id": "c9668d87",
   "metadata": {},
   "source": [
    "## Desafios (SE - SENÃO)"
   ]
  },
  {
   "cell_type": "markdown",
   "id": "883896b2",
   "metadata": {},
   "source": [
    "### Exercício 10\n",
    "Leia as medidas(b, h) de um retângulo. Informe a\n",
    "área calculada e se é um quadrado ou não."
   ]
  },
  {
   "cell_type": "code",
   "execution_count": null,
   "id": "5964da04",
   "metadata": {},
   "outputs": [],
   "source": [
    "b = int(input(\"Digite a altura do retângulo: \"))\n",
    "h = int(input(\"Digite a largura do retângulo: \"))\n",
    "print(\"A área do retângulo é de: \", b*h)\n",
    "if (b==h):\n",
    "    print(\"É um quadrado\")\n",
    "else:\n",
    "    print(\"Não é um quadrado\")"
   ]
  },
  {
   "cell_type": "markdown",
   "id": "63fca25d",
   "metadata": {},
   "source": [
    "### Exercício 11\n",
    "Sabendo que cada unidade de ferradura custa 9,90,\n",
    "pergunte quantos cavalos precisam de (4) ferraduras.\n",
    "Se o custo total for maior que 100,00 aplique um\n",
    "desconto de 10%. Depois informe o valor final."
   ]
  },
  {
   "cell_type": "code",
   "execution_count": null,
   "id": "dc972625",
   "metadata": {},
   "outputs": [],
   "source": [
    "cavalos = int(input(\"Quantos cavalos precisam de ferraduras? \"))\n",
    "ferraduras = cavalos * 4\n",
    "valor = round((ferraduras * 9.90), 2)\n",
    "if (valor > 100):\n",
    "    valor *= 0.9\n",
    "print(\"O valor final é\", valor, \"reais\")"
   ]
  },
  {
   "cell_type": "markdown",
   "id": "011afbc2",
   "metadata": {},
   "source": [
    "### Exercício 12\n",
    "Leia dois valores (A e B) e informe qual é o maior\n",
    "valor."
   ]
  },
  {
   "cell_type": "code",
   "execution_count": null,
   "id": "1cd25a43",
   "metadata": {},
   "outputs": [],
   "source": [
    "a = float(input(\"Digite o valor A: \"))\n",
    "b = float(input(\"Digite o valor B: \"))\n",
    "if (a>b):\n",
    "    print(\"A é maior que B\")\n",
    "elif (a==b):\n",
    "    print(\"Os valores são iguais\")\n",
    "else:\n",
    "    print(\"B é maior que A\")  "
   ]
  },
  {
   "cell_type": "markdown",
   "id": "7fa41dff",
   "metadata": {},
   "source": [
    "### Exercício 13\n",
    "Leia três valores (A, B e C). Informe se A+B é maior\n",
    "do que C."
   ]
  },
  {
   "cell_type": "code",
   "execution_count": null,
   "id": "1e63c4dc",
   "metadata": {},
   "outputs": [],
   "source": [
    "a = float(input(\"Digite o valor A: \"))\n",
    "b = float(input(\"Digite o valor B: \"))\n",
    "c = float(input(\"Digite o valor C: \"))\n",
    "if ((a+b)>c):\n",
    "    print(\"A+B é maior do que C\")\n",
    "else:\n",
    "    print(\"A+B não é maior do que C\")"
   ]
  },
  {
   "cell_type": "markdown",
   "id": "5afe3596",
   "metadata": {},
   "source": [
    "### Exercício 14\n",
    "Pergunte qual o valor da compra e a forma de\n",
    "pagamento, se for a vista dê 10% de desconto, caso\n",
    "contrário dê 5%."
   ]
  },
  {
   "cell_type": "code",
   "execution_count": null,
   "id": "56f02311",
   "metadata": {},
   "outputs": [],
   "source": [
    "valor_compra = float(input(\"Qual o valor da compra? \"))\n",
    "pagamento_avista = int(input(\"O pagamento será à vista? Digite 1 caso a resposta seja sim ou 0 caso a resposta seja não. \"))\n",
    "if (pagamento_avista == 1):\n",
    "    desconto = 0.1\n",
    "else:\n",
    "    desconto = 0.05\n",
    "\n",
    "print(\"O valor final da compra é de\", valor_compra*(1-desconto), \"reais\")"
   ]
  },
  {
   "cell_type": "markdown",
   "id": "d9b24656",
   "metadata": {},
   "source": [
    "### Exercício 15\n",
    "Tendo como dados de entrada a altura e o sexo de\n",
    "uma pessoa, construa um algoritmo que calcule seu\n",
    "peso ideal, utilizando as seguintes fórmulas:\n",
    "* para homens: (72.7 * h) – 58;\n",
    "* para mulheres: (62.1 * h) – 44.7."
   ]
  },
  {
   "cell_type": "code",
   "execution_count": null,
   "id": "1d6579b0",
   "metadata": {},
   "outputs": [],
   "source": [
    "altura = float(input(\"Digite sua altura: \"))\n",
    "sexo = input(\"Digite M caso você seja um homem ou F caso seja uma mulher\")\n",
    "\n",
    "if (sexo == \"M\"):\n",
    "    peso_ideal = (72.7 * altura) - 58\n",
    "    print(\"Seu peso ideal é\", peso_ideal, \"kgs\")\n",
    "elif (sexo == \"F\"):\n",
    "    peso_ideal = (62.1 * altura) - 44.7\n",
    "    print(\"Seu peso ideal é\", peso_ideal, \"kgs\")\n",
    "else:\n",
    "    print(\"Sexo inválido\")"
   ]
  },
  {
   "cell_type": "markdown",
   "id": "58544309",
   "metadata": {},
   "source": [
    "### Exercício 16\n",
    "Crie um algoritmo que peça a altura e o peso de uma\n",
    "pessoa. Calcule o IMC e informe se ele está dentro\n",
    "do intervalo de 18,5 e 25. Considere a fórmula:\n",
    "IMC = peso / ( altura )²"
   ]
  },
  {
   "cell_type": "code",
   "execution_count": null,
   "id": "cc39218b",
   "metadata": {},
   "outputs": [],
   "source": [
    "altura = float(input(\"Digite sua altura: \"))\n",
    "peso = float(input(\"Digite seu peso: \"))\n",
    "imc = peso / (altura*altura)\n",
    "if (imc>=18.5 and imc<=25):\n",
    "    print(\"Seu IMC está no intervalo adequado\")\n",
    "else:\n",
    "    print(\"Seu IMC não está no intervalo adequado\")"
   ]
  },
  {
   "cell_type": "markdown",
   "id": "5ecf23d7",
   "metadata": {},
   "source": [
    "### Exercício 17\n",
    "Solicite o nome, e-mail, rg e cpf da pessoa. Faça uma\n",
    "validação simples para verificar se todos os campos\n",
    "foram preenchidos."
   ]
  },
  {
   "cell_type": "code",
   "execution_count": null,
   "id": "71dcea16",
   "metadata": {},
   "outputs": [],
   "source": [
    "nome = input(\"Digite seu nome: \")\n",
    "email = input(\"Digite seu e-mail\")\n",
    "cpf = input(\"Digite seu CPF\")\n",
    "\n",
    "if (nome==\"\"):\n",
    "    print(\"O campo NOME não foi preenchido\")\n",
    "if (email==\"\"):\n",
    "    print(\"O campo E-MAIL não foi preenchido\")\n",
    "if (cpf==\"\"):\n",
    "    print(\"O campo CPF não foi preenchido\")"
   ]
  },
  {
   "cell_type": "markdown",
   "id": "240faea7",
   "metadata": {},
   "source": [
    "## Desafios (SE-SENÃO encadeado)"
   ]
  },
  {
   "cell_type": "markdown",
   "id": "e4afc74b",
   "metadata": {},
   "source": [
    "### Exercício 18\n",
    "O IMC – Índice de Massa Corporal é um critério da\n",
    "Organização Mundial de Saúde para dar uma indicação\n",
    "sobre a condição de peso de uma pessoa adulta. A fórmula é\n",
    "IMC = peso / ( altura )²\n",
    "Elabore um algoritmo que leia o peso e a altura de um adulto\n",
    "e mostre sua condição de acordo com a tabela abaixo.\n",
    "\n",
    "Classificação  | IMC\n",
    ":---------: | :------:\n",
    "Abaixo do peso | Abaixo de 18,5\n",
    "Peso Normal | 18,5 - 24,9\n",
    "Sobrepeso | 25 - 29,9\n",
    "Obesidade Grau I | 30 - 34,9\n",
    "Obesidade Grau II | 35 = 39,9\n",
    "Obesidade Grau III ou Mórbida | Acima de 40"
   ]
  },
  {
   "cell_type": "code",
   "execution_count": null,
   "id": "31ec7d60",
   "metadata": {},
   "outputs": [],
   "source": [
    "altura = float(input(\"Digite sua altura: \"))\n",
    "peso = float(input(\"Digite seu peso: \"))\n",
    "imc = peso / (altura*altura)\n",
    "if (imc<18):\n",
    "    print(\"Você está abaixo do peso\")\n",
    "elif (imc<25):\n",
    "    print(\"Você está no peso normal\")\n",
    "elif (imc<30):\n",
    "    print(\"Você está com sobrepeso\")\n",
    "elif (imc<35):\n",
    "    print(\"Você está com obesidade grau I\")\n",
    "elif (imc<40):\n",
    "    print(\"Você está com obesidade grau II\")\n",
    "else:\n",
    "    print(\"Você está com obesidade grau III\")"
   ]
  },
  {
   "cell_type": "markdown",
   "id": "28536013",
   "metadata": {},
   "source": [
    "### Exercício 19\n",
    "Solicite um número de 1 a 12 e informe o mês escolhido por\n",
    "extenso."
   ]
  },
  {
   "cell_type": "code",
   "execution_count": null,
   "id": "77add0f3",
   "metadata": {},
   "outputs": [],
   "source": [
    "mes = int(input(\"Digite um número de 1 a 12: \"))\n",
    "if (mes==1):\n",
    "    mes_extenso = \"Janeiro\"\n",
    "elif (mes==2):\n",
    "    mes_extenso = \"Fevereiro\"\n",
    "elif (mes==3):\n",
    "    mes_extenso = \"Março\"\n",
    "elif (mes==4):\n",
    "    mes_extenso = \"Abril\"\n",
    "elif (mes==5):\n",
    "    mes_extenso = \"Maio\"\n",
    "elif (mes==6):\n",
    "    mes_extenso = \"Junho\"\n",
    "elif (mes==7):\n",
    "    mes_extenso = \"Julho\"\n",
    "elif (mes==8):\n",
    "    mes_extenso = \"Agosto\"\n",
    "elif (mes==9):\n",
    "    mes_extenso = \"Setembro\"\n",
    "elif (mes==10):\n",
    "    mes_extenso = \"Outubro\"\n",
    "elif (mes==11):\n",
    "    mes_extenso = \"Novembro\"\n",
    "elif (mes==12):\n",
    "    mes_extenso = \"Dezembro\"\n",
    "else:\n",
    "    mes_extenso = \"Mês inválido\"\n",
    "\n",
    "print(\"O mês escolhido foi\", mes_extenso)"
   ]
  },
  {
   "cell_type": "markdown",
   "id": "69a1d31c",
   "metadata": {},
   "source": [
    "### Exercício 20\n",
    "Solicite um número de 0 a 6 e informe o dia da semana por\n",
    "extenso."
   ]
  },
  {
   "cell_type": "code",
   "execution_count": null,
   "id": "fff73fc5",
   "metadata": {},
   "outputs": [],
   "source": [
    "dia = int(input(\"Digite um número de 0 a 6: \"))\n",
    "if (dia==0):\n",
    "    dia_extenso = \"Domingo\"\n",
    "elif (dia==1):\n",
    "    dia_extenso = \"Segunda-feira\"\n",
    "elif (dia==2):\n",
    "    dia_extenso = \"Terça-feira\"\n",
    "elif (dia==3):\n",
    "    dia_extenso = \"Quarta-feira\"\n",
    "elif (dia==4):\n",
    "    dia_extenso = \"Quinta-feira\"\n",
    "elif (dia==5):\n",
    "    dia_extenso = \"Sexta-feira\"\n",
    "elif (dia==6):\n",
    "    dia_extenso = \"Sábado\"\n",
    "else:\n",
    "    dia_extenso = \"Dia inválido\"\n",
    "print(\"O dia escolhido foi:\", dia_extenso)"
   ]
  },
  {
   "cell_type": "markdown",
   "id": "b486656a",
   "metadata": {},
   "source": [
    "### Exercício 21\n",
    "Solicite um animal e mostre em inglês. (Ex.: gato, cachorro,\n",
    "etc..)"
   ]
  },
  {
   "cell_type": "code",
   "execution_count": null,
   "id": "ff9aa0ae",
   "metadata": {},
   "outputs": [],
   "source": [
    "animal_pt = input(\"Digite o nome de um animal em português: \")\n",
    "if (animal_pt==\"gato\"):\n",
    "    animal_eng = \"cat\"\n",
    "elif (animal_pt==\"cachorro\" or animal_pt==\"cão\"):\n",
    "    animal_eng = \"dog\"\n",
    "elif (animal_pt==\"coelho\"):\n",
    "    animal_eng = \"rabbit\"\n",
    "elif (animal_pt==\"vaca\"):\n",
    "    animal_eng = \"cow\"\n",
    "elif (animal_pt==\"pato\"):\n",
    "    animal_eng = \"duck\"\n",
    "elif (animal_pt==\"porco\"):\n",
    "    animal_eng = \"pig\"\n",
    "elif (animal_pt==\"urso\"):\n",
    "    animal_eng = \"bear\"\n",
    "else:\n",
    "    animal_eng = \"O animal escolhido não está no banco de dados\"\n",
    "print(\"O nome do animal em inglês é:\", animal_eng)"
   ]
  },
  {
   "cell_type": "markdown",
   "id": "418aa0b9",
   "metadata": {},
   "source": [
    "## Desafios (ESCOLHA - CASO)"
   ]
  },
  {
   "cell_type": "markdown",
   "id": "25527cc3",
   "metadata": {},
   "source": [
    "### Exercício 22\n",
    "Elabore um algoritmo que calcule o que deve ser pago por\n",
    "um produto, considerando o preço normal de etiqueta e a\n",
    "escolha da condição de pagamento. Utilize os códigos da\n",
    "tabela a seguir para ler qual a condição de pagamento\n",
    "escolhida e efetuar o cálculo adequado.\n",
    "\n",
    "Código - Condição de pagamento - Desconto/Juros:\n",
    "1. À vista em dinheiro ou cheque - 15% de desconto\n",
    "2. À vista no cartão de crédito - 5% de desconto\n",
    "3. Em duas vezes - sem desconto/juros\n",
    "4. Em seis vezes - juros de 10%"
   ]
  },
  {
   "cell_type": "code",
   "execution_count": 6,
   "id": "af0b1c6e",
   "metadata": {},
   "outputs": [
    {
     "name": "stdout",
     "output_type": "stream",
     "text": [
      "Digite o valor de etiqueta do produto: 4\n",
      "Digite o código da condição de pagamento: 1\n",
      "O valor a ser pago é de 3.4 reais.\n"
     ]
    }
   ],
   "source": [
    "preco_etiqueta = float(input(\"Digite o valor de etiqueta do produto: \"))\n",
    "codigo = int(input(\"Digite o código da condição de pagamento: \"))\n",
    "tabela_codigos = {\n",
    "    1: 0.85,\n",
    "    2: 0.95,\n",
    "    3: 1,\n",
    "    4: 1.1\n",
    "}\n",
    "print(\"O valor a ser pago é de\", preco_etiqueta*tabela_codigos[codigo], \"reais.\")"
   ]
  },
  {
   "cell_type": "markdown",
   "id": "eeb5d774",
   "metadata": {},
   "source": [
    "### Exercício 23\n",
    "Solicite um número de 1 a 12 e informe o mês escolhido\n",
    "por extenso."
   ]
  },
  {
   "cell_type": "code",
   "execution_count": 9,
   "id": "042ccefd",
   "metadata": {},
   "outputs": [
    {
     "name": "stdout",
     "output_type": "stream",
     "text": [
      "Digite um número de 1 a 12: 5\n",
      "O mês escolhido foi Maio\n"
     ]
    }
   ],
   "source": [
    "mes = int(input(\"Digite um número de 1 a 12: \"))\n",
    "meses = {\n",
    "    1: \"Janeiro\",\n",
    "    2: \"Fevereiro\",\n",
    "    3: \"Março\",\n",
    "    4: \"Abril\",\n",
    "    5: \"Maio\",\n",
    "    6: \"Junho\",\n",
    "    7: \"Julho\",\n",
    "    8: \"Agosto\",\n",
    "    9: \"Setembro\",\n",
    "    10: \"Outubro\",\n",
    "    11: \"Novembro\",\n",
    "    12: \"Dezembro\"\n",
    "}\n",
    "print(\"O mês escolhido foi\", meses[mes])"
   ]
  },
  {
   "cell_type": "markdown",
   "id": "f99f631d",
   "metadata": {},
   "source": [
    "### Exercício 24\n",
    "Solicite um número de 0 a 6 e informe o dia da semana\n",
    "por extenso."
   ]
  },
  {
   "cell_type": "code",
   "execution_count": 11,
   "id": "752d17f6",
   "metadata": {},
   "outputs": [
    {
     "name": "stdout",
     "output_type": "stream",
     "text": [
      "Digite um número de 0 a 6: 3\n",
      "O dia escolhido foi Quarta-feira\n"
     ]
    }
   ],
   "source": [
    "dia = int(input(\"Digite um número de 0 a 6: \"))\n",
    "dias = {\n",
    "    0: \"Domingo\",\n",
    "    1: \"Segunda-feira\",\n",
    "    2: \"Terça-feira\",\n",
    "    3: \"Quarta-feira\",\n",
    "    4: \"Quinta-feira\",\n",
    "    5: \"Sexta-feira\",\n",
    "    6: \"Sábado\"\n",
    "}\n",
    "print(\"O dia escolhido foi\", dias[dia])"
   ]
  },
  {
   "cell_type": "markdown",
   "id": "fa9585f4",
   "metadata": {},
   "source": [
    "### Exercício 25\n",
    "Solicite um animal e mostre em inglês. (Ex.: gato,\n",
    "cachorro, etc..)"
   ]
  },
  {
   "cell_type": "code",
   "execution_count": null,
   "id": "44d2902c",
   "metadata": {},
   "outputs": [],
   "source": []
  },
  {
   "cell_type": "markdown",
   "id": "833ea28a",
   "metadata": {},
   "source": [
    "## Desafios (Repetição)"
   ]
  },
  {
   "cell_type": "markdown",
   "id": "4ec449c7",
   "metadata": {},
   "source": [
    "### Exercício 26\n",
    "Mostre o seu nome 7 vezes na tela."
   ]
  },
  {
   "cell_type": "code",
   "execution_count": null,
   "id": "7339c1ba",
   "metadata": {},
   "outputs": [],
   "source": [
    "for i in range(7):\n",
    "    print(\"Larissa\")"
   ]
  },
  {
   "cell_type": "markdown",
   "id": "8d7a5800",
   "metadata": {},
   "source": [
    "### Exercício 27\n",
    "Conte de 1 até 20."
   ]
  },
  {
   "cell_type": "code",
   "execution_count": null,
   "id": "6c689ac8",
   "metadata": {},
   "outputs": [],
   "source": [
    "for i in range(1,21):\n",
    "    print(i)"
   ]
  },
  {
   "cell_type": "markdown",
   "id": "4fc9c393",
   "metadata": {},
   "source": [
    "### Exercício 28\n",
    "Leia o nome da pessoa e imprima ele 15 vezes na tela."
   ]
  },
  {
   "cell_type": "code",
   "execution_count": null,
   "id": "c0166373",
   "metadata": {},
   "outputs": [],
   "source": [
    "nome = input(\"Digite seu nome: \")\n",
    "\n",
    "for i in range(15):\n",
    "    print(nome)"
   ]
  },
  {
   "cell_type": "markdown",
   "id": "c1d2168e",
   "metadata": {},
   "source": [
    "### Exercício 29\n",
    "Leia um número, depois calcule e mostre a tabuada."
   ]
  },
  {
   "cell_type": "code",
   "execution_count": null,
   "id": "86021d4d",
   "metadata": {},
   "outputs": [],
   "source": [
    "numero = int(input(\"Escolha um número: \"))\n",
    "for i in range(11):\n",
    "    print(numero, \"*\", i, \"=\", numero*i)"
   ]
  },
  {
   "cell_type": "markdown",
   "id": "7a12ff61",
   "metadata": {},
   "source": [
    "### Exercício 30\n",
    "Leia dois números, calcule e informe a soma. Pergunte se\n",
    "deseja calcular novamente."
   ]
  },
  {
   "cell_type": "code",
   "execution_count": null,
   "id": "ce4ed73d",
   "metadata": {},
   "outputs": [],
   "source": [
    "continuar = \"sim\"\n",
    "\n",
    "while (continuar == \"sim\"):\n",
    "    numero_1 = float(input(\"Digite o primeiro número: \"))\n",
    "    numero_2 = float(input(\"Digite o segundo número: \"))\n",
    "    soma = numero_1 + numero_2\n",
    "    print(\"A soma dos números é igual a\", soma)\n",
    "    continuar = input(\"Digite 'sim' caso deseje fazer outra operação. Caso contrário, digite qualquer outro valor.\")"
   ]
  },
  {
   "cell_type": "markdown",
   "id": "f6fec4f3",
   "metadata": {},
   "source": [
    "### Exercício 31\n",
    "Leia o nome da pessoa. Caso ela deixe em branco\n",
    "solicite para digitar novamente."
   ]
  },
  {
   "cell_type": "code",
   "execution_count": null,
   "id": "a3af9917",
   "metadata": {},
   "outputs": [],
   "source": [
    "nome = \"\"\n",
    "\n",
    "while (nome==\"\"):\n",
    "    nome = input(\"Digite seu nome: \")"
   ]
  },
  {
   "cell_type": "markdown",
   "id": "14a12a33",
   "metadata": {},
   "source": [
    "### Exercício 32\n",
    "Leia um número, calcule o fatorial deste número e mostre\n",
    "o resultado"
   ]
  },
  {
   "cell_type": "code",
   "execution_count": null,
   "id": "c157e323",
   "metadata": {
    "scrolled": true
   },
   "outputs": [],
   "source": [
    "def fatorial(n):\n",
    "    if (n==1):\n",
    "        return 1\n",
    "    else:\n",
    "        return n * fatorial(n-1)\n",
    "\n",
    "valor = int(input(\"Digite um número: \"))\n",
    "fatorial(valor)"
   ]
  }
 ],
 "metadata": {
  "kernelspec": {
   "display_name": "Python 3 (ipykernel)",
   "language": "python",
   "name": "python3"
  },
  "language_info": {
   "codemirror_mode": {
    "name": "ipython",
    "version": 3
   },
   "file_extension": ".py",
   "mimetype": "text/x-python",
   "name": "python",
   "nbconvert_exporter": "python",
   "pygments_lexer": "ipython3",
   "version": "3.9.7"
  }
 },
 "nbformat": 4,
 "nbformat_minor": 5
}
