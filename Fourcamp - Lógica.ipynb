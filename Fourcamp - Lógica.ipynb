{
 "cells": [
  {
   "cell_type": "markdown",
   "id": "e0c1cbe1",
   "metadata": {},
   "source": [
    "# Lógica de Programação\n",
    "\n",
    "Exercícios feitos para o Fourcamp 2022"
   ]
  },
  {
   "cell_type": "markdown",
   "id": "b3b31918",
   "metadata": {},
   "source": [
    "## Desafios (Algoritmos)"
   ]
  },
  {
   "cell_type": "markdown",
   "id": "54c5a2dd",
   "metadata": {},
   "source": [
    "Leia as medidas(b, h) de um retângulo. Escreva a área calculada."
   ]
  },
  {
   "cell_type": "code",
   "execution_count": 2,
   "id": "56d5b855",
   "metadata": {},
   "outputs": [
    {
     "name": "stdout",
     "output_type": "stream",
     "text": [
      "A área calculada é de: 8\n"
     ]
    }
   ],
   "source": [
    "b = 2\n",
    "h = 4\n",
    "print(\"A área calculada é de:\", b*h)"
   ]
  },
  {
   "cell_type": "markdown",
   "id": "21e861dc",
   "metadata": {},
   "source": [
    "Sabendo que cada cavalo precisa de 4 ferraduras e que cada unidade custa 9,90, pergunte quantos cavalos precisam de ferraduras. Depois calcule e informe o valor final."
   ]
  },
  {
   "cell_type": "code",
   "execution_count": 18,
   "id": "88594fa1",
   "metadata": {},
   "outputs": [
    {
     "name": "stdout",
     "output_type": "stream",
     "text": [
      "Quantos cavalos precisam de ferraduras? 2\n",
      "O valor final é 79.2 reais\n"
     ]
    }
   ],
   "source": [
    "cavalos = int(input(\"Quantos cavalos precisam de ferraduras? \"))\n",
    "ferraduras = cavalos * 4\n",
    "valor = round((ferraduras * 9.90), 2)\n",
    "print(\"O valor final é\", valor, \"reais\")"
   ]
  },
  {
   "cell_type": "markdown",
   "id": "619adad8",
   "metadata": {},
   "source": [
    "Leia dois valores (A e B) e informe a soma."
   ]
  },
  {
   "cell_type": "code",
   "execution_count": 5,
   "id": "d2d1dd02",
   "metadata": {},
   "outputs": [
    {
     "name": "stdout",
     "output_type": "stream",
     "text": [
      "Digite o valor A: 1\n",
      "Digite o valor B: 2\n",
      "A soma é: 3.0\n"
     ]
    }
   ],
   "source": [
    "a = float(input(\"Digite o valor A: \"))\n",
    "b = float(input(\"Digite o valor B: \"))\n",
    "print(\"A soma é:\", a+b)"
   ]
  },
  {
   "cell_type": "markdown",
   "id": "45eaba7c",
   "metadata": {},
   "source": [
    "Leia três valores (A, B e C). Informe média."
   ]
  },
  {
   "cell_type": "code",
   "execution_count": 9,
   "id": "1c8bb031",
   "metadata": {},
   "outputs": [
    {
     "name": "stdout",
     "output_type": "stream",
     "text": [
      "Digite o valor A: 4\n",
      "Digite o valor B: 5\n",
      "Digite o valor C: 5\n",
      "A média é: 4.67\n"
     ]
    }
   ],
   "source": [
    "a = float(input(\"Digite o valor A: \"))\n",
    "b = float(input(\"Digite o valor B: \"))\n",
    "c = float(input(\"Digite o valor C: \"))\n",
    "print(\"A média é:\", round((a+b+c)/3, 2))"
   ]
  },
  {
   "cell_type": "markdown",
   "id": "9e31a810",
   "metadata": {},
   "source": [
    "Faça um algoritmo para uma loja de 1,99. Leia quantos itens foram vendidos. Conceda um desconto de 5% e informe o valor final."
   ]
  },
  {
   "cell_type": "code",
   "execution_count": 10,
   "id": "15c13bc4",
   "metadata": {},
   "outputs": [
    {
     "name": "stdout",
     "output_type": "stream",
     "text": [
      "Digite o número de itens vendidos: 5\n",
      "O valor final é de 9.45 reais\n"
     ]
    }
   ],
   "source": [
    "quantidade_itens = float(input(\"Digite o número de itens vendidos: \"))\n",
    "valor_final = 1.99 * quantidade_itens * 0.95\n",
    "print(\"O valor final é de\", round(valor_final,2), \"reais\")"
   ]
  },
  {
   "cell_type": "markdown",
   "id": "c5f5dac6",
   "metadata": {},
   "source": [
    "Crie um algoritmo que peça a altura e o peso de uma pessoa. Calcule e informe o IMC.\n",
    "Considere a fórmula: IMC = peso / ( altura )²"
   ]
  },
  {
   "cell_type": "code",
   "execution_count": 12,
   "id": "0fb2764c",
   "metadata": {},
   "outputs": [
    {
     "name": "stdout",
     "output_type": "stream",
     "text": [
      "Digite sua altura: 1.65\n",
      "Digite seu peso: 65\n",
      "Seu IMC é: 23.88\n"
     ]
    }
   ],
   "source": [
    "altura = float(input(\"Digite sua altura: \"))\n",
    "peso = float(input(\"Digite seu peso: \"))\n",
    "imc = peso / (altura*altura)\n",
    "print(\"Seu IMC é:\", round(imc,2))"
   ]
  },
  {
   "cell_type": "markdown",
   "id": "95652225",
   "metadata": {},
   "source": [
    "Pedrinho tem um cofrinho com muitas moedas, e\n",
    "deseja saber quantos reais conseguiu poupar. Faça\n",
    "um algoritmo para ler a quantidade de cada tipo de\n",
    "moeda, e imprimir o valor total economizado, em\n",
    "reais. Considere que existam moedas de 1, 5, 10, 25\n",
    "e 50 centavos, e ainda moedas de 1 real."
   ]
  },
  {
   "cell_type": "code",
   "execution_count": 13,
   "id": "b4c5aced",
   "metadata": {},
   "outputs": [
    {
     "name": "stdout",
     "output_type": "stream",
     "text": [
      "Digite o número de moedas de 1 centavo: 2\n",
      "Digite o número de moedas de 5 centavos: 3\n",
      "Digite o número de moedas de 10 centavos: 4\n",
      "Digite o número de moedas de 25 centavos: 5\n",
      "Digite o número de moedas de 50 centavos: 6\n",
      "Digite o número de moedas de 1 real: 6\n",
      "Você economizou: 10.82\n"
     ]
    }
   ],
   "source": [
    "a = float(input(\"Digite o número de moedas de 1 centavo: \"))\n",
    "b = float(input(\"Digite o número de moedas de 5 centavos: \"))\n",
    "c = float(input(\"Digite o número de moedas de 10 centavos: \"))\n",
    "d = float(input(\"Digite o número de moedas de 25 centavos: \"))\n",
    "e = float(input(\"Digite o número de moedas de 50 centavos: \"))\n",
    "f = float(input(\"Digite o número de moedas de 1 real: \"))\n",
    "valor_economizado = a*0.01 + b*0.05 + c*0.1 + d*0.25 + e*0.5 + f*1\n",
    "print(\"Você economizou:\", valor_economizado)"
   ]
  },
  {
   "cell_type": "markdown",
   "id": "422bd39a",
   "metadata": {},
   "source": [
    "Uma fábrica de refrigerantes vende seu produto em\n",
    "três formatos: lata de 350 ml, garrafa de 600 ml e\n",
    "garrafa de 2 litros. Se um comerciante compra uma\n",
    "determinada quantidade de cada formato, faça um\n",
    "algoritmo para calcular quantos litros de refrigerante\n",
    "ele comprou."
   ]
  },
  {
   "cell_type": "code",
   "execution_count": 14,
   "id": "07adebad",
   "metadata": {},
   "outputs": [
    {
     "name": "stdout",
     "output_type": "stream",
     "text": [
      "Digite o número de latas de 350ml: 2\n",
      "Digite o número de garrafas de 600ml: 2\n",
      "Digite o número de garrafas de 2L: 2\n",
      "Quantidade de litros de refrigerante: 5.9\n"
     ]
    }
   ],
   "source": [
    "a = float(input(\"Digite o número de latas de 350ml: \"))\n",
    "b = float(input(\"Digite o número de garrafas de 600ml: \"))\n",
    "c = float(input(\"Digite o número de garrafas de 2L: \"))\n",
    "qtd_litros = a*0.35 + b*0.6 + c*2\n",
    "print(\"Quantidade de litros de refrigerante:\", qtd_litros)"
   ]
  },
  {
   "cell_type": "markdown",
   "id": "066da8c8",
   "metadata": {},
   "source": [
    "Leia um número de 1 a 10, calcule e mostre a\n",
    "tabuada."
   ]
  },
  {
   "cell_type": "code",
   "execution_count": 17,
   "id": "964483ca",
   "metadata": {},
   "outputs": [
    {
     "name": "stdout",
     "output_type": "stream",
     "text": [
      "Digite um número entre 1 e 10: 4\n",
      "4 * 1 = 4\n",
      "4 * 2 = 8\n",
      "4 * 3 = 12\n",
      "4 * 4 = 16\n",
      "4 * 5 = 20\n",
      "4 * 6 = 24\n",
      "4 * 7 = 28\n",
      "4 * 8 = 32\n",
      "4 * 9 = 36\n",
      "4 * 10 = 40\n"
     ]
    }
   ],
   "source": [
    "numero = int(input(\"Digite um número entre 1 e 10: \"))\n",
    "print(numero, \"* 1 =\", numero*1)\n",
    "print(numero, \"* 2 =\", numero*2)\n",
    "print(numero, \"* 3 =\", numero*3)\n",
    "print(numero, \"* 4 =\", numero*4)\n",
    "print(numero, \"* 5 =\", numero*5)\n",
    "print(numero, \"* 6 =\", numero*6)\n",
    "print(numero, \"* 7 =\", numero*7)\n",
    "print(numero, \"* 8 =\", numero*8)\n",
    "print(numero, \"* 9 =\", numero*9)\n",
    "print(numero, \"* 10 =\", numero*10)"
   ]
  },
  {
   "cell_type": "markdown",
   "id": "c9668d87",
   "metadata": {},
   "source": [
    "## Desafios (SE - SENÃO)"
   ]
  },
  {
   "cell_type": "markdown",
   "id": "883896b2",
   "metadata": {},
   "source": [
    "Leia as medidas(b, h) de um retângulo. Informe a\n",
    "área calculada e se é um quadrado ou não."
   ]
  },
  {
   "cell_type": "code",
   "execution_count": 22,
   "id": "5964da04",
   "metadata": {},
   "outputs": [
    {
     "name": "stdout",
     "output_type": "stream",
     "text": [
      "Digite a altura do retângulo: 2\n",
      "Digite a largura do retângulo: 3\n",
      "A área do retângulo é de:  6\n",
      "Não é um quadrado\n"
     ]
    }
   ],
   "source": [
    "b = int(input(\"Digite a altura do retângulo: \"))\n",
    "h = int(input(\"Digite a largura do retângulo: \"))\n",
    "print(\"A área do retângulo é de: \", b*h)\n",
    "if (b==h):\n",
    "    print(\"É um quadrado\")\n",
    "else:\n",
    "    print(\"Não é um quadrado\")"
   ]
  },
  {
   "cell_type": "markdown",
   "id": "63fca25d",
   "metadata": {},
   "source": [
    "Sabendo que cada unidade de ferradura custa 9,90,\n",
    "pergunte quantos cavalos precisam de (4) ferraduras.\n",
    "Se o custo total for maior que 100,00 aplique um\n",
    "desconto de 10%. Depois informe o valor final."
   ]
  },
  {
   "cell_type": "code",
   "execution_count": 25,
   "id": "dc972625",
   "metadata": {},
   "outputs": [
    {
     "name": "stdout",
     "output_type": "stream",
     "text": [
      "Quantos cavalos precisam de ferraduras? 3\n",
      "O valor final é 106.92 reais\n"
     ]
    }
   ],
   "source": [
    "cavalos = int(input(\"Quantos cavalos precisam de ferraduras? \"))\n",
    "ferraduras = cavalos * 4\n",
    "valor = round((ferraduras * 9.90), 2)\n",
    "if (valor > 100):\n",
    "    valor *= 0.9\n",
    "print(\"O valor final é\", valor, \"reais\")"
   ]
  },
  {
   "cell_type": "markdown",
   "id": "011afbc2",
   "metadata": {},
   "source": [
    "Leia dois valores (A e B) e informe qual é o maior\n",
    "valor."
   ]
  },
  {
   "cell_type": "code",
   "execution_count": 28,
   "id": "1cd25a43",
   "metadata": {},
   "outputs": [
    {
     "name": "stdout",
     "output_type": "stream",
     "text": [
      "Digite o valor A: 2\n",
      "Digite o valor B: 2\n",
      "Os valores são iguais\n"
     ]
    }
   ],
   "source": [
    "a = float(input(\"Digite o valor A: \"))\n",
    "b = float(input(\"Digite o valor B: \"))\n",
    "if (a>b):\n",
    "    print(\"A é maior que B\")\n",
    "elif (a==b):\n",
    "    print(\"Os valores são iguais\")\n",
    "else:\n",
    "    print(\"B é maior que A\")  "
   ]
  },
  {
   "cell_type": "markdown",
   "id": "7fa41dff",
   "metadata": {},
   "source": [
    "Leia três valores (A, B e C). Informe se A+B é maior\n",
    "do que C."
   ]
  },
  {
   "cell_type": "code",
   "execution_count": 30,
   "id": "1e63c4dc",
   "metadata": {},
   "outputs": [
    {
     "name": "stdout",
     "output_type": "stream",
     "text": [
      "Digite o valor A: 1\n",
      "Digite o valor B: 3\n",
      "Digite o valor C: 9\n",
      "A+B não é maior do que C\n"
     ]
    }
   ],
   "source": [
    "a = float(input(\"Digite o valor A: \"))\n",
    "b = float(input(\"Digite o valor B: \"))\n",
    "c = float(input(\"Digite o valor C: \"))\n",
    "if ((a+b)>c):\n",
    "    print(\"A+B é maior do que C\")\n",
    "else:\n",
    "    print(\"A+B não é maior do que C\")"
   ]
  },
  {
   "cell_type": "markdown",
   "id": "5afe3596",
   "metadata": {},
   "source": [
    "Pergunte qual o valor da compra e a forma de\n",
    "pagamento, se for a vista dê 10% de desconto, caso\n",
    "contrário dê 5%."
   ]
  },
  {
   "cell_type": "code",
   "execution_count": null,
   "id": "56f02311",
   "metadata": {},
   "outputs": [],
   "source": []
  },
  {
   "cell_type": "markdown",
   "id": "d9b24656",
   "metadata": {},
   "source": [
    "Tendo como dados de entrada a altura e o sexo de\n",
    "uma pessoa, construa um algoritmo que calcule seu\n",
    "peso ideal, utilizando as seguintes fórmulas:\n",
    "* para homens: (72.7 * h) – 58;\n",
    "* para mulheres: (62.1 * h) – 44.7."
   ]
  },
  {
   "cell_type": "code",
   "execution_count": null,
   "id": "1d6579b0",
   "metadata": {},
   "outputs": [],
   "source": []
  },
  {
   "cell_type": "markdown",
   "id": "58544309",
   "metadata": {},
   "source": [
    "Crie um algoritmo que peça a altura e o peso de uma\n",
    "pessoa. Calcule o IMC e informe se ele está dentro\n",
    "do intervalo de 18,5 e 25. Considere a fórmula:\n",
    "IMC = peso / ( altura )²"
   ]
  },
  {
   "cell_type": "code",
   "execution_count": null,
   "id": "cc39218b",
   "metadata": {},
   "outputs": [],
   "source": []
  },
  {
   "cell_type": "markdown",
   "id": "5ecf23d7",
   "metadata": {},
   "source": [
    "Solicite o nome, e-mail, rg e cpf da pessoa. Faça uma\n",
    "validação simples para verificar se todos os campos\n",
    "foram preenchidos."
   ]
  },
  {
   "cell_type": "code",
   "execution_count": null,
   "id": "71dcea16",
   "metadata": {},
   "outputs": [],
   "source": []
  },
  {
   "cell_type": "markdown",
   "id": "240faea7",
   "metadata": {},
   "source": [
    "## Desafios (SE-SENÃO encadeado)"
   ]
  },
  {
   "cell_type": "markdown",
   "id": "e4afc74b",
   "metadata": {},
   "source": [
    "O IMC – Índice de Massa Corporal é um critério da\n",
    "Organização Mundial de Saúde para dar uma indicação\n",
    "sobre a condição de peso de uma pessoa adulta. A fórmula é\n",
    "IMC = peso / ( altura )²\n",
    "Elabore um algoritmo que leia o peso e a altura de um adulto\n",
    "e mostre sua condição de acordo com a tabela abaixo."
   ]
  },
  {
   "cell_type": "code",
   "execution_count": null,
   "id": "31ec7d60",
   "metadata": {},
   "outputs": [],
   "source": []
  },
  {
   "cell_type": "markdown",
   "id": "28536013",
   "metadata": {},
   "source": [
    "Solicite um número de 1 a 12 e informe o mês escolhido por\n",
    "extenso."
   ]
  },
  {
   "cell_type": "code",
   "execution_count": null,
   "id": "77add0f3",
   "metadata": {},
   "outputs": [],
   "source": []
  },
  {
   "cell_type": "markdown",
   "id": "69a1d31c",
   "metadata": {},
   "source": [
    "Solicite um número de 0 a 6 e informe o dia da semana por\n",
    "extenso."
   ]
  },
  {
   "cell_type": "code",
   "execution_count": null,
   "id": "fff73fc5",
   "metadata": {},
   "outputs": [],
   "source": []
  },
  {
   "cell_type": "markdown",
   "id": "b486656a",
   "metadata": {},
   "source": [
    "Solicite um animal e mostre em inglês. (Ex.: gato, cachorro,\n",
    "etc..)"
   ]
  },
  {
   "cell_type": "code",
   "execution_count": null,
   "id": "ff9aa0ae",
   "metadata": {},
   "outputs": [],
   "source": []
  },
  {
   "cell_type": "markdown",
   "id": "418aa0b9",
   "metadata": {},
   "source": [
    "## Desafios (ESCOLHA - CASO)"
   ]
  },
  {
   "cell_type": "markdown",
   "id": "25527cc3",
   "metadata": {},
   "source": [
    "Elabore um algoritmo que calcule o que deve ser pago por\n",
    "um produto, considerando o preço normal de etiqueta e a\n",
    "escolha da condição de pagamento. Utilize os códigos da\n",
    "tabela a seguir para ler qual a condição de pagamento\n",
    "escolhida e efetuar o cálculo adequado.\n",
    "\n",
    "Código - Condição de pagamento - Desconto/Juros:\n",
    "1. À vista em dinheiro ou cheque - 15% de desconto\n",
    "2. À vista no cartão de crédito - 5% de desconto\n",
    "3. Em duas vezes - sem desconto/juros\n",
    "4. Em seis vezes - juros de 10%"
   ]
  },
  {
   "cell_type": "code",
   "execution_count": null,
   "id": "af0b1c6e",
   "metadata": {},
   "outputs": [],
   "source": []
  },
  {
   "cell_type": "markdown",
   "id": "eeb5d774",
   "metadata": {},
   "source": [
    "Solicite um número de 1 a 12 e informe o mês escolhido\n",
    "por extenso."
   ]
  },
  {
   "cell_type": "code",
   "execution_count": null,
   "id": "042ccefd",
   "metadata": {},
   "outputs": [],
   "source": []
  },
  {
   "cell_type": "markdown",
   "id": "f99f631d",
   "metadata": {},
   "source": [
    "Solicite um número de 0 a 6 e informe o dia da semana\n",
    "por extenso."
   ]
  },
  {
   "cell_type": "code",
   "execution_count": null,
   "id": "752d17f6",
   "metadata": {},
   "outputs": [],
   "source": []
  },
  {
   "cell_type": "markdown",
   "id": "fa9585f4",
   "metadata": {},
   "source": [
    "Solicite um animal e mostre em inglês. (Ex.: gato,\n",
    "cachorro, etc..)"
   ]
  },
  {
   "cell_type": "code",
   "execution_count": null,
   "id": "44d2902c",
   "metadata": {},
   "outputs": [],
   "source": []
  },
  {
   "cell_type": "markdown",
   "id": "833ea28a",
   "metadata": {},
   "source": [
    "## Desafios (Repetição)"
   ]
  },
  {
   "cell_type": "markdown",
   "id": "4ec449c7",
   "metadata": {},
   "source": [
    "Mostre o seu nome 7 vezes na tela."
   ]
  },
  {
   "cell_type": "code",
   "execution_count": null,
   "id": "7339c1ba",
   "metadata": {},
   "outputs": [],
   "source": []
  },
  {
   "cell_type": "markdown",
   "id": "8d7a5800",
   "metadata": {},
   "source": [
    "Conte de 1 até 20."
   ]
  },
  {
   "cell_type": "code",
   "execution_count": null,
   "id": "6c689ac8",
   "metadata": {},
   "outputs": [],
   "source": []
  },
  {
   "cell_type": "markdown",
   "id": "4fc9c393",
   "metadata": {},
   "source": [
    "Leia o nome da pessoa e imprima ele 15 vezes na tela."
   ]
  },
  {
   "cell_type": "code",
   "execution_count": null,
   "id": "c0166373",
   "metadata": {},
   "outputs": [],
   "source": []
  },
  {
   "cell_type": "markdown",
   "id": "c1d2168e",
   "metadata": {},
   "source": [
    "Leia um número, depois calcule e mostre a tabuada."
   ]
  },
  {
   "cell_type": "code",
   "execution_count": null,
   "id": "86021d4d",
   "metadata": {},
   "outputs": [],
   "source": []
  },
  {
   "cell_type": "markdown",
   "id": "7a12ff61",
   "metadata": {},
   "source": [
    "Leia dois números, calcule e informe a soma. Pergunte se\n",
    "deseja calcular novamente."
   ]
  },
  {
   "cell_type": "code",
   "execution_count": null,
   "id": "ce4ed73d",
   "metadata": {},
   "outputs": [],
   "source": []
  },
  {
   "cell_type": "markdown",
   "id": "f6fec4f3",
   "metadata": {},
   "source": [
    "Leia o nome da pessoa. Caso ela deixe em branco\n",
    "solicite para digitar novamente."
   ]
  },
  {
   "cell_type": "code",
   "execution_count": null,
   "id": "a3af9917",
   "metadata": {},
   "outputs": [],
   "source": []
  },
  {
   "cell_type": "markdown",
   "id": "14a12a33",
   "metadata": {},
   "source": [
    "Leia um número, calcule o fatorial deste número e mostre\n",
    "o resultado"
   ]
  },
  {
   "cell_type": "code",
   "execution_count": null,
   "id": "c157e323",
   "metadata": {},
   "outputs": [],
   "source": []
  }
 ],
 "metadata": {
  "kernelspec": {
   "display_name": "Python 3 (ipykernel)",
   "language": "python",
   "name": "python3"
  },
  "language_info": {
   "codemirror_mode": {
    "name": "ipython",
    "version": 3
   },
   "file_extension": ".py",
   "mimetype": "text/x-python",
   "name": "python",
   "nbconvert_exporter": "python",
   "pygments_lexer": "ipython3",
   "version": "3.9.7"
  }
 },
 "nbformat": 4,
 "nbformat_minor": 5
}
